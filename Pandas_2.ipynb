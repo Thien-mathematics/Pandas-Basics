{
  "nbformat": 4,
  "nbformat_minor": 0,
  "metadata": {
    "colab": {
      "provenance": []
    },
    "kernelspec": {
      "name": "python3",
      "display_name": "Python 3"
    },
    "language_info": {
      "name": "python"
    }
  },
  "cells": [
    {
      "cell_type": "code",
      "source": [
        "import pandas as pd"
      ],
      "metadata": {
        "id": "y691COLzbosQ"
      },
      "execution_count": null,
      "outputs": []
    },
    {
      "cell_type": "markdown",
      "source": [
        "#1 Summary Functions"
      ],
      "metadata": {
        "id": "raP2ScrtaeHE"
      }
    },
    {
      "cell_type": "code",
      "execution_count": null,
      "metadata": {
        "colab": {
          "base_uri": "https://localhost:8080/"
        },
        "id": "iY9kM0KfaaIc",
        "outputId": "aa4e247e-dd7b-4a8a-c9f5-131f6120fd9e"
      },
      "outputs": [
        {
          "output_type": "stream",
          "name": "stdout",
          "text": [
            "           height     weight\n",
            "count    5.000000   5.000000\n",
            "mean   170.000000  69.000000\n",
            "std      7.905694  11.937336\n",
            "min    160.000000  55.000000\n",
            "25%    165.000000  60.000000\n",
            "50%    170.000000  70.000000\n",
            "75%    175.000000  75.000000\n",
            "max    180.000000  85.000000\n"
          ]
        }
      ],
      "source": [
        "\"\"\"\n",
        "Summary Functions (Các hàm tóm tắt) là các phương thức trong Pandas được sử dụng để xử lý dữ liệu một cách nhanh chóng và trả về \n",
        "kết quả một cách đơn giản và hữu ích. Các hàm này giúp đưa ra các thống kê cơ bản về dữ liệu như \n",
        "min, max, mean, median, mode, quantiles, và count. \n",
        "Một số hàm tóm tắt phổ biến trong Pandas bao gồm \n",
        "describe(), info(), value_counts(), sum(), mean(), median(), std(), var(), corr(), và cov().\n",
        "\"\"\"\n",
        "\n",
        "data = {'height': [170, 165, 180, 175, 160], \n",
        "        'weight': [70, 60, 85, 75, 55]}\n",
        "\n",
        "df = pd.DataFrame(data)\n",
        "\n",
        "print(df.describe())"
      ]
    },
    {
      "cell_type": "code",
      "source": [
        "\"\"\"\n",
        "hương thức unique() trong Pandas được sử dụng để trích xuất các giá trị duy nhất từ một cột (Series) của DataFrame.\n",
        "Nó trả về một mảng (array) các giá trị duy nhất theo thứ tự xuất hiện đầu tiên.\n",
        "\"\"\"\n",
        "\n",
        "data = {'gender': ['male', 'female', 'male', 'male', 'female', 'female']}\n",
        "\n",
        "df = pd.DataFrame(data)\n",
        "\n",
        "df['gender'].unique()"
      ],
      "metadata": {
        "colab": {
          "base_uri": "https://localhost:8080/"
        },
        "id": "fCE-bNh3bnFS",
        "outputId": "b424795d-70de-4f7d-d173-fec95dab83a4"
      },
      "execution_count": null,
      "outputs": [
        {
          "output_type": "execute_result",
          "data": {
            "text/plain": [
              "array(['male', 'female'], dtype=object)"
            ]
          },
          "metadata": {},
          "execution_count": 5
        }
      ]
    },
    {
      "cell_type": "code",
      "source": [
        "\"\"\"\n",
        "Phương thức value_counts() trong Pandas được sử dụng để đếm số lần xuất hiện của các giá trị trong một cột (Series) của DataFrame. \n",
        "Nó trả về một Series mới với các giá trị là số lần xuất hiện của các giá trị duy nhất trong cột, được sắp xếp theo thứ tự giảm dần.\n",
        "\"\"\"\n",
        "\n",
        "df[\"gender\"].value_counts()"
      ],
      "metadata": {
        "colab": {
          "base_uri": "https://localhost:8080/"
        },
        "id": "GDPr3WhgcJUE",
        "outputId": "8bdaaffd-56bf-42af-804f-6d00459a6db8"
      },
      "execution_count": null,
      "outputs": [
        {
          "output_type": "execute_result",
          "data": {
            "text/plain": [
              "male      3\n",
              "female    3\n",
              "Name: gender, dtype: int64"
            ]
          },
          "metadata": {},
          "execution_count": 6
        }
      ]
    },
    {
      "cell_type": "markdown",
      "source": [
        "#2. Maps"
      ],
      "metadata": {
        "id": "YKHBUEkndabR"
      }
    },
    {
      "cell_type": "code",
      "source": [
        "\"\"\"\n",
        "Map là một thuật ngữ được mượn từ toán học, \n",
        "để chỉ một hàm (function) nhận một tập hợp giá trị và ánh xạ chúng để tạo ra một tập giá trị khác\n",
        "\"\"\"\n",
        "\n",
        "\"\"\"\n",
        "Trong khoa học dữ liệu, chúng ta thường cần tạo ra các biểu diễn mới từ dữ liệu hiện có, \n",
        "hoặc chuyển đổi dữ liệu từ định dạng hiện tại sang định dạng mong muốn sau này. \n",
        "\"Maps\" là những thứ xử lý công việc này, làm cho chúng vô cùng quan trọng để hoàn thành công việc của bạn!\n",
        "\"\"\"\n",
        "\n",
        "\"\"\"\n",
        "Có hai phương pháp ánh xạ mà bạn sẽ sử dụng thường xuyên:\n",
        "\"\"\"\n",
        "\n",
        "\"\"\"\n",
        "map() là phương pháp đơn giản đầu tiên.\n",
        "Ví dụ, giả sử chúng ta muốn đưa lại giá trị trung bình của các điểm số của các chai rượu về 0. \n",
        "Chúng ta có thể làm điều này như sau:\n",
        "\"\"\"\n",
        "\n",
        "\"\"\"\n",
        "Giả sử chúng ta có một DataFrame df chứa thông tin về giá trị điểm của các sản phẩm, \n",
        "và chúng ta muốn ánh xạ các giá trị điểm này thành các nhận định về chất lượng của sản phẩm. \n",
        "Chúng ta có thể sử dụng phương thức map() để thực hiện điều này.\n",
        "\"\"\"\n",
        "\n",
        "data = {'product': ['A', 'B', 'C', 'D', 'E', 'F'],\n",
        "    'score': [8, 6, 9, 7, 5, 8]}\n",
        "\n",
        "df = pd.DataFrame(data)\n",
        "\n",
        "# Define a dictionary to map scores to quality ratings\n",
        "quality_map = {10: 'Excellent', 9: 'Great', 8: 'Very good', 7: 'Good', 6: 'Satisfactory', 5: 'Fair'}\n",
        "\n",
        "# Use map() to map scores to quality ratings\n",
        "df['quality'] = df['score'].map(quality_map)\n",
        "\n",
        "# Print the resulting DataFrame\n",
        "print(df)\n"
      ],
      "metadata": {
        "colab": {
          "base_uri": "https://localhost:8080/"
        },
        "id": "e9e1bkMwcthV",
        "outputId": "2d8dd3bc-9db0-422e-9530-23c19064464a"
      },
      "execution_count": null,
      "outputs": [
        {
          "output_type": "stream",
          "name": "stdout",
          "text": [
            "  product  score       quality\n",
            "0       A      8     Very good\n",
            "1       B      6  Satisfactory\n",
            "2       C      9         Great\n",
            "3       D      7          Good\n",
            "4       E      5          Fair\n",
            "5       F      8     Very good\n"
          ]
        }
      ]
    },
    {
      "cell_type": "code",
      "source": [
        "\"\"\"\n",
        "apply() là phương thức tương đương nếu chúng ta muốn chuyển đổi toàn bộ DataFrame bằng cách gọi một phương thức tùy chỉnh trên mỗi hàng. \n",
        "Nó cho phép chúng ta thực hiện các phép biến đổi phức tạp hơn so với map(). \n",
        "Chẳng hạn, nếu chúng ta muốn tạo một cột mới bằng cách tính toán dựa trên các cột hiện có của DataFrame, \n",
        "chúng ta có thể sử dụng apply() để áp dụng một hàm tùy chỉnh trên mỗi hàng và trả về kết quả.\n",
        "\"\"\"\n",
        "\n",
        "# Tạo DataFrame\n",
        "data = {'A': [1, 2, 3], 'B': [4, 5, 6]}\n",
        "df = pd.DataFrame(data)\n",
        "\n",
        "# Định nghĩa hàm tính tổng của 'A' và 'B'\n",
        "def sum_columns(row):\n",
        "    return row['A'] + row['B']\n",
        "\n",
        "# Áp dụng hàm sum_columns() trên mỗi hàng và lưu kết quả vào cột mới 'C'\n",
        "df['C'] = df.apply(sum_columns, axis=1)\n",
        "\n",
        "# In kết quả\n",
        "print(df)\n"
      ],
      "metadata": {
        "colab": {
          "base_uri": "https://localhost:8080/"
        },
        "id": "z4SLvw9RfK-w",
        "outputId": "6c3f99bd-9f58-4853-85b9-2c0346a4c92c"
      },
      "execution_count": null,
      "outputs": [
        {
          "output_type": "stream",
          "name": "stdout",
          "text": [
            "   A  B  C\n",
            "0  1  4  5\n",
            "1  2  5  7\n",
            "2  3  6  9\n"
          ]
        }
      ]
    },
    {
      "cell_type": "code",
      "source": [
        "\"\"\"\n",
        "Đối với các phép toán giữa các series, Pandas cung cấp các toán tử như >, <, ==,... \n",
        "để thực hiện các phép toán này nhanh hơn so với map() hoặc apply(). \n",
        "Tất cả các toán tử chuẩn của Python đều hoạt động theo cách này.\n",
        "\n",
        "Tuy nhiên, chúng không linh hoạt như map() hoặc apply(), \n",
        "có thể thực hiện các tác vụ nâng cao hơn, chẳng hạn như áp dụng logic điều kiện, \n",
        "điều mà không thể thực hiện được chỉ với phép cộng và trừ đơn giản.\n",
        "\"\"\""
      ],
      "metadata": {
        "id": "-gJN0qNbg9Tr"
      },
      "execution_count": null,
      "outputs": []
    },
    {
      "cell_type": "markdown",
      "source": [
        "#3 Groupwise analysis"
      ],
      "metadata": {
        "id": "5ZvetPEKmVuI"
      }
    },
    {
      "cell_type": "code",
      "source": [
        "\"\"\"\n",
        "groupby() là một phương thức mạnh mẽ và linh hoạt để nhóm dữ liệu trong DataFrame dựa trên một hoặc nhiều cột, \n",
        "và thực hiện các hoạt động trên từng nhóm một cách độc lập.\n",
        "\n",
        "Hàm value_counts() là một phím tắt của phép toán groupby() và đếm số lượng giá trị duy nhất trong một cột.\n",
        "\n",
        "Các hàm tóm tắt có thể được sử dụng với dữ liệu được nhóm lại bằng groupby().\n",
        "\"\"\"\n",
        "\n",
        "# load the wine review dataset\n",
        "#wine_reviews = pd.read_csv('winemag-data-130k-v2.csv')\n",
        "\n",
        "# group the reviews by point values and count the number of times each point value appears\n",
        "#point_counts = wine_reviews.groupby('points').size()\n",
        "\n",
        "# print the result\n",
        "#print(point_counts)\n",
        "\n",
        "# OutPut\n",
        "\"\"\"\n",
        "points\n",
        "80      898\n",
        "81     1502\n",
        "82     3015\n",
        "83     4460\n",
        "84     6489\n",
        "85     9531\n",
        "86    12600\n",
        "87    16933\n",
        "88    17457\n",
        "89    12265\n",
        "90    15410\n",
        "91     9533\n",
        "92     7890\n",
        "93     4913\n",
        "94     2369\n",
        "95      735\n",
        "96      262\n",
        "97       97\n",
        "98       34\n",
        "99       11\n",
        "100      19\n",
        "dtype: int64\n",
        "\"\"\""
      ],
      "metadata": {
        "id": "alO-oR4KmbbA"
      },
      "execution_count": null,
      "outputs": []
    },
    {
      "cell_type": "code",
      "source": [
        "#reviews.groupby('winery').apply(lambda df: df.title.iloc[0])\n",
        "\"\"\"\n",
        "Trong ví dụ này, chúng ta sử dụng phương thức apply() trên kết quả của phương thức groupby() để áp dụng một hàm được định \n",
        "nghĩa trước đó lên từng nhóm dữ liệu. Hàm này trả về tên của chai rượu vang đầu tiên được đánh giá cho mỗi \n",
        "nhà máy chế biến rượu vang trong nhóm được chọn. Kết quả là một Series chứa tên của chai rượu vang đầu \n",
        "tiên được đánh giá từ mỗi nhà máy chế biến rượu vang.\n",
        "\"\"\""
      ],
      "metadata": {
        "id": "swZCDoV8nmTe"
      },
      "execution_count": null,
      "outputs": []
    },
    {
      "cell_type": "code",
      "source": [
        "\"\"\"\n",
        "Phương thức agg() trong groupby() cho phép chạy nhiều hàm khác nhau trên DataFrame cùng lúc. \n",
        "Chúng ta có thể chỉ định các hàm muốn áp dụng và các cột tương ứng để tính toán trên các nhóm được tạo ra từ phương thức groupby(). \n",
        "Kết quả trả về là một DataFrame chứa các giá trị thống kê được tính cho từng nhóm.\n",
        "\"\"\"\n",
        "\n",
        "# Tạo DataFrame\n",
        "data = {'fruits': ['apple', 'banana', 'apple', 'banana', 'orange', 'orange'],\n",
        "        'price': [1.0, 1.5, 2.0, 1.8, 1.2, 1.5],\n",
        "        'quantity': [10, 20, 15, 30, 5, 10]}\n",
        "df = pd.DataFrame(data)\n",
        "\n",
        "# Nhóm dữ liệu theo loại trái cây và tính giá trị trung bình và tổng số lượng\n",
        "summary = df.groupby('fruits').agg({'price': 'mean', 'quantity': 'sum'})\n",
        "print(summary)\n"
      ],
      "metadata": {
        "colab": {
          "base_uri": "https://localhost:8080/"
        },
        "id": "AllcDFvXpJWj",
        "outputId": "9b422fe9-506a-4112-cd62-a2a6396634dd"
      },
      "execution_count": null,
      "outputs": [
        {
          "output_type": "stream",
          "name": "stdout",
          "text": [
            "        price  quantity\n",
            "fruits                 \n",
            "apple    1.50        25\n",
            "banana   1.65        50\n",
            "orange   1.35        15\n"
          ]
        }
      ]
    }
  ]
}