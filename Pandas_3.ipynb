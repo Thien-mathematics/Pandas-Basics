{
  "nbformat": 4,
  "nbformat_minor": 0,
  "metadata": {
    "colab": {
      "provenance": []
    },
    "kernelspec": {
      "name": "python3",
      "display_name": "Python 3"
    },
    "language_info": {
      "name": "python"
    }
  },
  "cells": [
    {
      "cell_type": "code",
      "source": [
        "import pandas as pd\n",
        "import numpy as np"
      ],
      "metadata": {
        "id": "D7kM-6RgTHhh"
      },
      "execution_count": 7,
      "outputs": []
    },
    {
      "cell_type": "markdown",
      "source": [
        "#1. Dtypes"
      ],
      "metadata": {
        "id": "9eYOwKRpSxvK"
      }
    },
    {
      "cell_type": "code",
      "execution_count": 2,
      "metadata": {
        "id": "FYxafhrpSMBw",
        "colab": {
          "base_uri": "https://localhost:8080/"
        },
        "outputId": "f1275bf4-f17a-4d65-cc41-439b28fb3895"
      },
      "outputs": [
        {
          "output_type": "stream",
          "name": "stdout",
          "text": [
            "float64\n"
          ]
        }
      ],
      "source": [
        "\"\"\"\n",
        "Kiểu dữ liệu cho một cột trong DataFrame hoặc Series được gọi là dtype.\n",
        "\n",
        "Bạn có thể sử dụng thuộc tính dtype để lấy kiểu dữ liệu của một cột cụ thể.\n",
        "\"\"\"\n",
        "\n",
        "# Tạo một DataFrame đơn giản\n",
        "data = {'name': ['John', 'Alice', 'Bob'],\n",
        "        'age': [25, 30, 35],\n",
        "        'price': [10.5, 15.2, 20.0]}\n",
        "df = pd.DataFrame(data)\n",
        "\n",
        "# Lấy kiểu dữ liệu của cột 'price'\n",
        "price_dtype = df['price'].dtype\n",
        "\n",
        "print(price_dtype)\n"
      ]
    },
    {
      "cell_type": "code",
      "source": [
        "\"\"\"\n",
        "Một cách khác, thuộc tính dtypes trả về kiểu dữ liệu của từng cột trong DataFrame:\n",
        "\"\"\""
      ],
      "metadata": {
        "id": "73VHVMZGTLCv"
      },
      "execution_count": null,
      "outputs": []
    },
    {
      "cell_type": "code",
      "source": [
        "# Tạo một DataFrame đơn giản\n",
        "data = {'name': ['John', 'Alice', 'Bob'],\n",
        "        'age': [25, 30, 35],\n",
        "        'price': [10.5, 15.2, 20.0]}\n",
        "df = pd.DataFrame(data)\n",
        "\n",
        "# Lấy kiểu dữ liệu của từng cột trong DataFrame\n",
        "column_dtypes = df.dtypes\n",
        "\n",
        "print(column_dtypes)\n"
      ],
      "metadata": {
        "colab": {
          "base_uri": "https://localhost:8080/"
        },
        "id": "Fja428OkTdOF",
        "outputId": "fe410f25-fa46-4d8d-956d-d1e3e82b8a79"
      },
      "execution_count": 4,
      "outputs": [
        {
          "output_type": "stream",
          "name": "stdout",
          "text": [
            "name      object\n",
            "age        int64\n",
            "price    float64\n",
            "dtype: object\n"
          ]
        }
      ]
    },
    {
      "cell_type": "code",
      "source": [
        "\"\"\"\n",
        "Kiểu dữ liệu cho chúng ta biết một số thông tin về cách pandas lưu trữ dữ liệu nội bộ. float64 có nghĩa \n",
        "là nó sử dụng số dấu chấm động 64-bit; int64 có nghĩa là sử dụng một số nguyên cùng kích thước tương tự, và vân vân.\n",
        "\n",
        "Một đặc điểm đáng chú ý (và rất rõ ràng ở đây) là các cột chỉ gồm chuỗi không có kiểu dữ liệu riêng của chúng; \n",
        "thay vào đó, chúng được gán kiểu dữ liệu là object.\n",
        "\n",
        "Có thể chuyển đổi một cột từ một kiểu sang kiểu khác mỗi khi việc chuyển đổi đó hợp lý bằng cách \n",
        "sử dụng hàm astype(). Ví dụ, chúng ta có thể chuyển đổi cột points từ kiểu dữ liệu int64 hiện có sang kiểu dữ liệu float64:\n",
        "\"\"\""
      ],
      "metadata": {
        "id": "koy5Jj8GTnR5"
      },
      "execution_count": null,
      "outputs": []
    },
    {
      "cell_type": "code",
      "source": [
        "# Tạo một DataFrame đơn giản\n",
        "data = {'name': ['John', 'Alice', 'Bob'],\n",
        "        'age': [25, 30, 35],\n",
        "        'points': [10, 15, 20]}\n",
        "df = pd.DataFrame(data)\n",
        "\n",
        "# Kiểu dữ liệu ban đầu của cột 'points'\n",
        "points_dtype_before = df['points'].dtype\n",
        "print(\"Kiểu dữ liệu trước khi chuyển đổi:\", points_dtype_before)\n",
        "\n",
        "# Chuyển đổi cột 'points' sang kiểu dữ liệu float64\n",
        "df['points'] = df['points'].astype(float)\n",
        "\n",
        "# Kiểu dữ liệu sau khi chuyển đổi của cột 'points'\n",
        "points_dtype_after = df['points'].dtype\n",
        "print(\"Kiểu dữ liệu sau khi chuyển đổi:\", points_dtype_after)\n"
      ],
      "metadata": {
        "colab": {
          "base_uri": "https://localhost:8080/"
        },
        "id": "xa2QIQJRVWzR",
        "outputId": "04383ab0-97e9-4c4b-8123-3645b48ff92a"
      },
      "execution_count": 5,
      "outputs": [
        {
          "output_type": "stream",
          "name": "stdout",
          "text": [
            "Kiểu dữ liệu trước khi chuyển đổi: int64\n",
            "Kiểu dữ liệu sau khi chuyển đổi: float64\n"
          ]
        }
      ]
    },
    {
      "cell_type": "markdown",
      "source": [
        "#2. Missing data"
      ],
      "metadata": {
        "id": "gTxPeYtlVg74"
      }
    },
    {
      "cell_type": "code",
      "source": [
        "\"\"\"\n",
        "Các mục thiếu giá trị được gán giá trị NaN, \n",
        "viết tắt của \"Not a Number\". Vì lý do kỹ thuật, các giá trị NaN luôn có kiểu dữ liệu float64.\n",
        "\n",
        "Pandas cung cấp một số phương pháp đặc biệt cho dữ liệu thiếu. \n",
        "Để chọn các mục NaN, bạn có thể sử dụng pd.isnull() (hoặc pd.notnull()). \n",
        "Điều này được sử dụng như sau:\n",
        "\"\"\"\n",
        "\n",
        "# Tạo một Series với một số giá trị NaN\n",
        "data = pd.Series([1, 2, np.nan, 4, np.nan, 6])\n",
        "\n",
        "# Chọn các mục có giá trị NaN\n",
        "null_entries = data[pd.isnull(data)]\n",
        "\n",
        "print(null_entries)\n"
      ],
      "metadata": {
        "colab": {
          "base_uri": "https://localhost:8080/"
        },
        "id": "sOGX3B6bVYGZ",
        "outputId": "920c4eb2-263b-419a-9c4b-e1be43f19bc3"
      },
      "execution_count": 8,
      "outputs": [
        {
          "output_type": "stream",
          "name": "stdout",
          "text": [
            "2   NaN\n",
            "4   NaN\n",
            "dtype: float64\n"
          ]
        }
      ]
    },
    {
      "cell_type": "code",
      "source": [
        "\"\"\"\n",
        "Trong ví dụ này, chúng ta tạo một Series với một số giá trị NaN (Not a Number). \n",
        "Chúng ta sử dụng hàm pd.isnull() để chọn các mục có giá trị NaN trong Series. \n",
        "Kết quả trả về là một Series chỉ chứa các mục có giá trị NaN.\n",
        "\"\"\""
      ],
      "metadata": {
        "id": "sGRjwSz3XVdN"
      },
      "execution_count": null,
      "outputs": []
    },
    {
      "cell_type": "code",
      "source": [
        "\"\"\"Thay thế các giá trị thiếu là một phép toán phổ biến. \n",
        "Pandas cung cấp một phương thức cực kỳ hữu ích cho vấn đề này: fillna(). fillna() \n",
        "cung cấp một số chiến lược khác nhau để giảm thiểu dữ liệu thiếu. \n",
        "\"\"\""
      ],
      "metadata": {
        "id": "Ma3wqqXwXnVa"
      },
      "execution_count": null,
      "outputs": []
    },
    {
      "cell_type": "code",
      "source": [
        "# Tạo một Series với một số giá trị NaN\n",
        "data = pd.Series([1, 2, np.nan, 4, np.nan, 6])\n",
        "\n",
        "# Thay thế giá trị NaN bằng \"Unknown\"\n",
        "filled_data = data.fillna(\"Unknown\")\n",
        "\n",
        "print(filled_data)\n"
      ],
      "metadata": {
        "colab": {
          "base_uri": "https://localhost:8080/"
        },
        "id": "jkNhMK9-X6su",
        "outputId": "6a83bdf9-41a5-4520-de8a-fc263ed41bac"
      },
      "execution_count": 9,
      "outputs": [
        {
          "output_type": "stream",
          "name": "stdout",
          "text": [
            "0        1.0\n",
            "1        2.0\n",
            "2    Unknown\n",
            "3        4.0\n",
            "4    Unknown\n",
            "5        6.0\n",
            "dtype: object\n"
          ]
        }
      ]
    },
    {
      "cell_type": "code",
      "source": [
        "\"\"\"\n",
        "Hoặc chúng ta có thể điền mỗi giá trị thiếu bằng giá trị không null đầu tiên xuất hiện sau bản ghi đã cho trong cơ sở dữ liệu. \n",
        "Đây được gọi là chiến lược backfill.\n",
        "\"\"\""
      ],
      "metadata": {
        "id": "o08nGLsmX70A"
      },
      "execution_count": null,
      "outputs": []
    },
    {
      "cell_type": "code",
      "source": [
        "# Tạo một DataFrame đơn giản\n",
        "data = {'reviewer': ['John', 'Alice', 'Kerin O\\'Keefe', 'Bob'],\n",
        "        'twitter_handle': ['@john', '@alice', '@kerinokeefe', '@bob']}\n",
        "df = pd.DataFrame(data)\n",
        "\n",
        "# Thay thế giá trị 'kerinokeefe' bằng 'kerino'\n",
        "df['twitter_handle'] = df['twitter_handle'].replace('@kerinokeefe', '@kerino')\n",
        "\n",
        "print(df)\n"
      ],
      "metadata": {
        "colab": {
          "base_uri": "https://localhost:8080/"
        },
        "id": "EAdfJIxnYeJ8",
        "outputId": "17d399e4-abdf-4ee7-b784-20c3cefd6268"
      },
      "execution_count": 10,
      "outputs": [
        {
          "output_type": "stream",
          "name": "stdout",
          "text": [
            "        reviewer twitter_handle\n",
            "0           John          @john\n",
            "1          Alice         @alice\n",
            "2  Kerin O'Keefe        @kerino\n",
            "3            Bob           @bob\n"
          ]
        }
      ]
    },
    {
      "cell_type": "code",
      "source": [
        "\"\"\"\n",
        "Phương thức replace() đáng để đề cập ở đây vì nó hữu ích để thay thế dữ liệu thiếu được đặt \n",
        "thành một giá trị báo hiệu nào đó trong tập dữ liệu: \n",
        "như \"Unknown\" (Không rõ), \"Undisclosed\" (Không tiết lộ), \"Invalid\" (Không hợp lệ), và vân vân.\n",
        "\"\"\""
      ],
      "metadata": {
        "id": "kN1ttMmoYghI"
      },
      "execution_count": null,
      "outputs": []
    },
    {
      "cell_type": "markdown",
      "source": [
        "#3. Renaming"
      ],
      "metadata": {
        "id": "4V6K26PTg2A6"
      }
    },
    {
      "cell_type": "code",
      "source": [
        "\"\"\"\n",
        "Hm rename() trong pandas được sử dụng để thay đổi tên chỉ mục (index) hoặc tên cột (column) trong DataFrame. \n",
        "Nó cho phép bạn thay đổi tên của một hoặc nhiều chỉ mục hoặc cột cùng một lúc.\n",
        "\"\"\""
      ],
      "metadata": {
        "id": "2JvHyA1lg1PY"
      },
      "execution_count": null,
      "outputs": []
    },
    {
      "cell_type": "code",
      "source": [
        "\"\"\"\n",
        "Hàm rename() cho phép bạn đổi tên các giá trị chỉ mục hoặc cột bằng cách chỉ định các tham số keyword index hoặc column tương ứng. \n",
        "Nó hỗ trợ nhiều định dạng đầu vào khác nhau, nhưng thông thường, từ điển (dictionary) Python là cách thuận tiện nhất. \n",
        "Dưới đây là một ví dụ sử dụng hàm rename() để đổi tên một số phần tử của chỉ mục.\n",
        "\"\"\""
      ],
      "metadata": {
        "id": "PzExYfSJiFOo"
      },
      "execution_count": null,
      "outputs": []
    },
    {
      "cell_type": "code",
      "source": [
        "# Tạo DataFrame mẫu\n",
        "data = {'A': [1, 2, 3], 'B': [4, 5, 6]}\n",
        "df = pd.DataFrame(data, index=['X', 'Y', 'Z'])\n",
        "print(\"DataFrame ban đầu:\")\n",
        "print(df)\n",
        "\n",
        "# Sử dụng hàm rename() để đổi tên một số phần tử chỉ mục\n",
        "df.rename(index={'X': 'M', 'Y': 'N'}, inplace=True)\n",
        "print(\"\\nDataFrame sau khi đổi tên:\")\n",
        "print(df)\n"
      ],
      "metadata": {
        "colab": {
          "base_uri": "https://localhost:8080/"
        },
        "id": "9D5toiwxiI_V",
        "outputId": "acd07509-3fec-4d69-9b92-d4406580ed74"
      },
      "execution_count": 11,
      "outputs": [
        {
          "output_type": "stream",
          "name": "stdout",
          "text": [
            "DataFrame ban đầu:\n",
            "   A  B\n",
            "X  1  4\n",
            "Y  2  5\n",
            "Z  3  6\n",
            "\n",
            "DataFrame sau khi đổi tên:\n",
            "   A  B\n",
            "M  1  4\n",
            "N  2  5\n",
            "Z  3  6\n"
          ]
        }
      ]
    },
    {
      "cell_type": "code",
      "source": [
        "\"\"\"\n",
        "Thường thì bạn sẽ thay đổi tên các cột rất thường xuyên, nhưng thay đổi tên các giá trị chỉ mục rất ít khi. \n",
        "Để làm điều đó, hàm set_index() thường được sử dụng thuận tiện hơn.\n",
        "\n",
        "Cả chỉ mục hàng và chỉ mục cột đều có thuộc tính tên riêng của chúng. \n",
        "Phương thức rename_axis() có thể được sử dụng để thay đổi các tên này.\n",
        "\"\"\""
      ],
      "metadata": {
        "id": "nIYO3ozfiMnw"
      },
      "execution_count": null,
      "outputs": []
    },
    {
      "cell_type": "code",
      "source": [
        "# Tạo DataFrame mẫu\n",
        "data = {'A': [1, 2, 3], 'B': [4, 5, 6]}\n",
        "df = pd.DataFrame(data, index=['X', 'Y', 'Z'])\n",
        "print(\"DataFrame ban đầu:\")\n",
        "print(df)\n",
        "\n",
        "# Thay đổi tên của chỉ mục hàng và chỉ mục cột\n",
        "df_renamed = df.rename_axis(index='Row', columns='Column')\n",
        "print(\"\\nDataFrame sau khi thay đổi tên:\")\n",
        "print(df_renamed)\n"
      ],
      "metadata": {
        "colab": {
          "base_uri": "https://localhost:8080/"
        },
        "id": "NXMwj_xPi0R6",
        "outputId": "2faec93b-cfea-43e7-c471-584d00ee27e4"
      },
      "execution_count": 12,
      "outputs": [
        {
          "output_type": "stream",
          "name": "stdout",
          "text": [
            "DataFrame ban đầu:\n",
            "   A  B\n",
            "X  1  4\n",
            "Y  2  5\n",
            "Z  3  6\n",
            "\n",
            "DataFrame sau khi thay đổi tên:\n",
            "Column  A  B\n",
            "Row         \n",
            "X       1  4\n",
            "Y       2  5\n",
            "Z       3  6\n"
          ]
        }
      ]
    },
    {
      "cell_type": "markdown",
      "source": [
        "#4. Combining"
      ],
      "metadata": {
        "id": "X4m-jS3UjG1K"
      }
    },
    {
      "cell_type": "code",
      "source": [
        "\"\"\"\n",
        "Khi thực hiện các thao tác trên một tập dữ liệu, đôi khi chúng ta cần kết hợp các DataFrame và/hoặc Series khác nhau theo cách không đơn giản.\n",
        "Pandas có ba phương pháp cốt lõi để làm điều này. Theo thứ tự tăng dần độ phức tạp, chúng là concat(), join() và merge(). \n",
        "Hầu hết những gì merge() có thể làm cũng có thể được thực hiện một cách đơn giản hơn bằng cách sử dụng join(), \n",
        "vì vậy chúng ta sẽ bỏ qua merge() và tập trung vào hai hàm đầu tiên ở đây.\n",
        "\"\"\"\n",
        "\n",
        "\"\"\"\n",
        "Phương pháp kết hợp đơn giản nhất là concat(). \n",
        "Cho một danh sách các phần tử, hàm này sẽ kết hợp các phần tử đó lại theo một trục.\n",
        "\"\"\"\n",
        "\n",
        "\"\"\"\n",
        "Điều này hữu ích khi chúng ta có dữ liệu trong các đối tượng DataFrame hoặc Series khác nhau nhưng có cùng các trường (cột). \n",
        "Một ví dụ: bộ dữ liệu Video trên YouTube, mà chia dữ liệu thành từng phần dựa trên quốc gia xuất xứ \n",
        "(ví dụ: Canada và Vương quốc Anh trong ví dụ này). \n",
        "Nếu chúng ta muốn nghiên cứu nhiều quốc gia cùng một lúc, chúng ta có thể sử dụng concat() để kết hợp chúng lại:\n",
        "\"\"\""
      ],
      "metadata": {
        "id": "TAwYDUwqi1dN"
      },
      "execution_count": null,
      "outputs": []
    },
    {
      "cell_type": "code",
      "source": [
        "# Tạo hai DataFrame đại diện cho dữ liệu từ hai quốc gia\n",
        "df_canada = pd.DataFrame({'Country': ['Canada', 'Canada'],\n",
        "                          'Video_Title': ['Video 1', 'Video 2'],\n",
        "                          'Views': [1000, 2000]})\n",
        "df_uk = pd.DataFrame({'Country': ['UK', 'UK'],\n",
        "                      'Video_Title': ['Video 3', 'Video 4'],\n",
        "                      'Views': [1500, 1800]})\n",
        "\n",
        "# Sử dụng concat() để kết hợp các DataFrame lại với nhau\n",
        "combined_df = pd.concat([df_canada, df_uk])\n",
        "\n",
        "print(combined_df)\n"
      ],
      "metadata": {
        "colab": {
          "base_uri": "https://localhost:8080/"
        },
        "id": "aeVsKscsnBji",
        "outputId": "3d978697-9ba0-4681-c616-acde441eca6a"
      },
      "execution_count": 13,
      "outputs": [
        {
          "output_type": "stream",
          "name": "stdout",
          "text": [
            "  Country Video_Title  Views\n",
            "0  Canada     Video 1   1000\n",
            "1  Canada     Video 2   2000\n",
            "0      UK     Video 3   1500\n",
            "1      UK     Video 4   1800\n"
          ]
        }
      ]
    },
    {
      "cell_type": "code",
      "source": [
        "\"\"\"\n",
        "Phương thức join() trong Pandas cũng được sử dụng để kết hợp các DataFrame và/hoặc Series, tương tự như concat(). \n",
        "Tuy nhiên, join() tập trung vào kết hợp dựa trên các chỉ mục (index) thay vì các trục (axis) như concat().\n",
        "\n",
        "Có hai cách chính để sử dụng join():\n",
        "\n",
        "Kết hợp theo chỉ mục (index): Khi các DataFrame có cùng các chỉ mục, chúng ta có thể sử dụng join() để kết hợp chúng dựa trên chỉ mục đó.\n",
        "\n",
        "Kết hợp dựa trên cột: Chúng ta có thể sử dụng join() để kết hợp các DataFrame dựa trên các cột có tên giống nhau.\n",
        "\n",
        "Dưới đây là một ví dụ về cách sử dụng join() để kết hợp các DataFrame dựa trên chỉ mục:\n",
        "\"\"\""
      ],
      "metadata": {
        "id": "DGPAS3ornCfX"
      },
      "execution_count": null,
      "outputs": []
    },
    {
      "cell_type": "code",
      "source": [
        "# Tạo hai DataFrame với các chỉ mục chung\n",
        "df1 = pd.DataFrame({'A': [1, 2, 3],\n",
        "                    'B': [4, 5, 6]},\n",
        "                   index=['a', 'b', 'c'])\n",
        "\n",
        "df2 = pd.DataFrame({'C': [7, 8, 9],\n",
        "                    'D': [10, 11, 12]},\n",
        "                   index=['a', 'b', 'c'])\n",
        "\n",
        "# Sử dụng join() để kết hợp DataFrame dựa trên chỉ mục\n",
        "joined_df = df1.join(df2)\n",
        "\n",
        "print(joined_df)\n"
      ],
      "metadata": {
        "colab": {
          "base_uri": "https://localhost:8080/"
        },
        "id": "-WLIs7kxoHxo",
        "outputId": "3d19e847-921e-4846-f733-064769804aaf"
      },
      "execution_count": 14,
      "outputs": [
        {
          "output_type": "stream",
          "name": "stdout",
          "text": [
            "   A  B  C   D\n",
            "a  1  4  7  10\n",
            "b  2  5  8  11\n",
            "c  3  6  9  12\n"
          ]
        }
      ]
    },
    {
      "cell_type": "code",
      "source": [
        "\"\"\"\n",
        "Các tham số lsuffix và rsuffix là cần thiết ở đây vì dữ liệu có cùng tên cột trong \n",
        "cả tập dữ liệu của Anh và Canada. Nếu điều này không đúng (ví dụ: chúng ta đã đổi tên chúng trước đó), \n",
        "thì chúng ta sẽ không cần sử dụng chúng.\n",
        "\"\"\""
      ],
      "metadata": {
        "id": "i8ZxbUiaoLVx"
      },
      "execution_count": null,
      "outputs": []
    }
  ]
}