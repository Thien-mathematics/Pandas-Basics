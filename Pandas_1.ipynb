{
  "nbformat": 4,
  "nbformat_minor": 0,
  "metadata": {
    "colab": {
      "provenance": [],
      "collapsed_sections": [
        "IhyXPIgoC6FO",
        "rCIhNGffcbHU",
        "x_rxdipZCxbX"
      ]
    },
    "kernelspec": {
      "name": "python3",
      "display_name": "Python 3"
    },
    "language_info": {
      "name": "python"
    }
  },
  "cells": [
    {
      "cell_type": "markdown",
      "source": [
        "#Getting started"
      ],
      "metadata": {
        "id": "IhyXPIgoC6FO"
      }
    },
    {
      "cell_type": "code",
      "execution_count": 7,
      "metadata": {
        "id": "_odheJm7XrmM"
      },
      "outputs": [],
      "source": [
        "import pandas as pd"
      ]
    },
    {
      "cell_type": "markdown",
      "source": [
        "#1. Creating data\n",
        "   - Có 2 cách khởi tạo 1 dữ liệu mới pandas: DataFarm và Series \n"
      ],
      "metadata": {
        "id": "y9P9EJnEX8V9"
      }
    },
    {
      "cell_type": "code",
      "source": [
        "\"\"\"\n",
        "DataFrame tạo ra một bảng, nó chứa một mảng các mục entries và mỗi mục có một giá trị cụ thể\n",
        "Mỗi mục tương ứng với một hàng và một cột\n",
        "\"\"\"\n",
        "pd.DataFrame({'Yes': [50, 20], 'No': [31, 12]})"
      ],
      "metadata": {
        "colab": {
          "base_uri": "https://localhost:8080/",
          "height": 112
        },
        "id": "UzB-bCU9YL1f",
        "outputId": "4775ef70-ce43-4aea-814f-7b5c17e6bcb8"
      },
      "execution_count": 8,
      "outputs": [
        {
          "output_type": "execute_result",
          "data": {
            "text/plain": [
              "   Yes  No\n",
              "0   50  31\n",
              "1   20  12"
            ],
            "text/html": [
              "\n",
              "  <div id=\"df-51f5562d-9ec7-4d00-aa18-334eef7d00b3\">\n",
              "    <div class=\"colab-df-container\">\n",
              "      <div>\n",
              "<style scoped>\n",
              "    .dataframe tbody tr th:only-of-type {\n",
              "        vertical-align: middle;\n",
              "    }\n",
              "\n",
              "    .dataframe tbody tr th {\n",
              "        vertical-align: top;\n",
              "    }\n",
              "\n",
              "    .dataframe thead th {\n",
              "        text-align: right;\n",
              "    }\n",
              "</style>\n",
              "<table border=\"1\" class=\"dataframe\">\n",
              "  <thead>\n",
              "    <tr style=\"text-align: right;\">\n",
              "      <th></th>\n",
              "      <th>Yes</th>\n",
              "      <th>No</th>\n",
              "    </tr>\n",
              "  </thead>\n",
              "  <tbody>\n",
              "    <tr>\n",
              "      <th>0</th>\n",
              "      <td>50</td>\n",
              "      <td>31</td>\n",
              "    </tr>\n",
              "    <tr>\n",
              "      <th>1</th>\n",
              "      <td>20</td>\n",
              "      <td>12</td>\n",
              "    </tr>\n",
              "  </tbody>\n",
              "</table>\n",
              "</div>\n",
              "      <button class=\"colab-df-convert\" onclick=\"convertToInteractive('df-51f5562d-9ec7-4d00-aa18-334eef7d00b3')\"\n",
              "              title=\"Convert this dataframe to an interactive table.\"\n",
              "              style=\"display:none;\">\n",
              "        \n",
              "  <svg xmlns=\"http://www.w3.org/2000/svg\" height=\"24px\"viewBox=\"0 0 24 24\"\n",
              "       width=\"24px\">\n",
              "    <path d=\"M0 0h24v24H0V0z\" fill=\"none\"/>\n",
              "    <path d=\"M18.56 5.44l.94 2.06.94-2.06 2.06-.94-2.06-.94-.94-2.06-.94 2.06-2.06.94zm-11 1L8.5 8.5l.94-2.06 2.06-.94-2.06-.94L8.5 2.5l-.94 2.06-2.06.94zm10 10l.94 2.06.94-2.06 2.06-.94-2.06-.94-.94-2.06-.94 2.06-2.06.94z\"/><path d=\"M17.41 7.96l-1.37-1.37c-.4-.4-.92-.59-1.43-.59-.52 0-1.04.2-1.43.59L10.3 9.45l-7.72 7.72c-.78.78-.78 2.05 0 2.83L4 21.41c.39.39.9.59 1.41.59.51 0 1.02-.2 1.41-.59l7.78-7.78 2.81-2.81c.8-.78.8-2.07 0-2.86zM5.41 20L4 18.59l7.72-7.72 1.47 1.35L5.41 20z\"/>\n",
              "  </svg>\n",
              "      </button>\n",
              "      \n",
              "  <style>\n",
              "    .colab-df-container {\n",
              "      display:flex;\n",
              "      flex-wrap:wrap;\n",
              "      gap: 12px;\n",
              "    }\n",
              "\n",
              "    .colab-df-convert {\n",
              "      background-color: #E8F0FE;\n",
              "      border: none;\n",
              "      border-radius: 50%;\n",
              "      cursor: pointer;\n",
              "      display: none;\n",
              "      fill: #1967D2;\n",
              "      height: 32px;\n",
              "      padding: 0 0 0 0;\n",
              "      width: 32px;\n",
              "    }\n",
              "\n",
              "    .colab-df-convert:hover {\n",
              "      background-color: #E2EBFA;\n",
              "      box-shadow: 0px 1px 2px rgba(60, 64, 67, 0.3), 0px 1px 3px 1px rgba(60, 64, 67, 0.15);\n",
              "      fill: #174EA6;\n",
              "    }\n",
              "\n",
              "    [theme=dark] .colab-df-convert {\n",
              "      background-color: #3B4455;\n",
              "      fill: #D2E3FC;\n",
              "    }\n",
              "\n",
              "    [theme=dark] .colab-df-convert:hover {\n",
              "      background-color: #434B5C;\n",
              "      box-shadow: 0px 1px 3px 1px rgba(0, 0, 0, 0.15);\n",
              "      filter: drop-shadow(0px 1px 2px rgba(0, 0, 0, 0.3));\n",
              "      fill: #FFFFFF;\n",
              "    }\n",
              "  </style>\n",
              "\n",
              "      <script>\n",
              "        const buttonEl =\n",
              "          document.querySelector('#df-51f5562d-9ec7-4d00-aa18-334eef7d00b3 button.colab-df-convert');\n",
              "        buttonEl.style.display =\n",
              "          google.colab.kernel.accessAllowed ? 'block' : 'none';\n",
              "\n",
              "        async function convertToInteractive(key) {\n",
              "          const element = document.querySelector('#df-51f5562d-9ec7-4d00-aa18-334eef7d00b3');\n",
              "          const dataTable =\n",
              "            await google.colab.kernel.invokeFunction('convertToInteractive',\n",
              "                                                     [key], {});\n",
              "          if (!dataTable) return;\n",
              "\n",
              "          const docLinkHtml = 'Like what you see? Visit the ' +\n",
              "            '<a target=\"_blank\" href=https://colab.research.google.com/notebooks/data_table.ipynb>data table notebook</a>'\n",
              "            + ' to learn more about interactive tables.';\n",
              "          element.innerHTML = '';\n",
              "          dataTable['output_type'] = 'display_data';\n",
              "          await google.colab.output.renderOutput(dataTable, element);\n",
              "          const docLink = document.createElement('div');\n",
              "          docLink.innerHTML = docLinkHtml;\n",
              "          element.appendChild(docLink);\n",
              "        }\n",
              "      </script>\n",
              "    </div>\n",
              "  </div>\n",
              "  "
            ]
          },
          "metadata": {},
          "execution_count": 8
        }
      ]
    },
    {
      "cell_type": "code",
      "source": [
        "\"\"\"\n",
        "Danh sách các nhãn hàng được sử dụng trong một DataFrame được gọi là Index\n",
        "Chúng ta có thể gán giá trị cho nó bằng cách sử dụng tham số index trong hàm tạo của chúng ta\n",
        "\"\"\"\n",
        "pd.DataFrame({'Yes': [50, 20], 'No': [31, 12]}, index = [1,2])"
      ],
      "metadata": {
        "colab": {
          "base_uri": "https://localhost:8080/",
          "height": 112
        },
        "id": "Vi3locUkaiNC",
        "outputId": "83717c21-b2e7-4363-8e35-087ba99872be"
      },
      "execution_count": 9,
      "outputs": [
        {
          "output_type": "execute_result",
          "data": {
            "text/plain": [
              "   Yes  No\n",
              "1   50  31\n",
              "2   20  12"
            ],
            "text/html": [
              "\n",
              "  <div id=\"df-ae9006c3-8f9a-40b7-9dbb-65e1e7b172db\">\n",
              "    <div class=\"colab-df-container\">\n",
              "      <div>\n",
              "<style scoped>\n",
              "    .dataframe tbody tr th:only-of-type {\n",
              "        vertical-align: middle;\n",
              "    }\n",
              "\n",
              "    .dataframe tbody tr th {\n",
              "        vertical-align: top;\n",
              "    }\n",
              "\n",
              "    .dataframe thead th {\n",
              "        text-align: right;\n",
              "    }\n",
              "</style>\n",
              "<table border=\"1\" class=\"dataframe\">\n",
              "  <thead>\n",
              "    <tr style=\"text-align: right;\">\n",
              "      <th></th>\n",
              "      <th>Yes</th>\n",
              "      <th>No</th>\n",
              "    </tr>\n",
              "  </thead>\n",
              "  <tbody>\n",
              "    <tr>\n",
              "      <th>1</th>\n",
              "      <td>50</td>\n",
              "      <td>31</td>\n",
              "    </tr>\n",
              "    <tr>\n",
              "      <th>2</th>\n",
              "      <td>20</td>\n",
              "      <td>12</td>\n",
              "    </tr>\n",
              "  </tbody>\n",
              "</table>\n",
              "</div>\n",
              "      <button class=\"colab-df-convert\" onclick=\"convertToInteractive('df-ae9006c3-8f9a-40b7-9dbb-65e1e7b172db')\"\n",
              "              title=\"Convert this dataframe to an interactive table.\"\n",
              "              style=\"display:none;\">\n",
              "        \n",
              "  <svg xmlns=\"http://www.w3.org/2000/svg\" height=\"24px\"viewBox=\"0 0 24 24\"\n",
              "       width=\"24px\">\n",
              "    <path d=\"M0 0h24v24H0V0z\" fill=\"none\"/>\n",
              "    <path d=\"M18.56 5.44l.94 2.06.94-2.06 2.06-.94-2.06-.94-.94-2.06-.94 2.06-2.06.94zm-11 1L8.5 8.5l.94-2.06 2.06-.94-2.06-.94L8.5 2.5l-.94 2.06-2.06.94zm10 10l.94 2.06.94-2.06 2.06-.94-2.06-.94-.94-2.06-.94 2.06-2.06.94z\"/><path d=\"M17.41 7.96l-1.37-1.37c-.4-.4-.92-.59-1.43-.59-.52 0-1.04.2-1.43.59L10.3 9.45l-7.72 7.72c-.78.78-.78 2.05 0 2.83L4 21.41c.39.39.9.59 1.41.59.51 0 1.02-.2 1.41-.59l7.78-7.78 2.81-2.81c.8-.78.8-2.07 0-2.86zM5.41 20L4 18.59l7.72-7.72 1.47 1.35L5.41 20z\"/>\n",
              "  </svg>\n",
              "      </button>\n",
              "      \n",
              "  <style>\n",
              "    .colab-df-container {\n",
              "      display:flex;\n",
              "      flex-wrap:wrap;\n",
              "      gap: 12px;\n",
              "    }\n",
              "\n",
              "    .colab-df-convert {\n",
              "      background-color: #E8F0FE;\n",
              "      border: none;\n",
              "      border-radius: 50%;\n",
              "      cursor: pointer;\n",
              "      display: none;\n",
              "      fill: #1967D2;\n",
              "      height: 32px;\n",
              "      padding: 0 0 0 0;\n",
              "      width: 32px;\n",
              "    }\n",
              "\n",
              "    .colab-df-convert:hover {\n",
              "      background-color: #E2EBFA;\n",
              "      box-shadow: 0px 1px 2px rgba(60, 64, 67, 0.3), 0px 1px 3px 1px rgba(60, 64, 67, 0.15);\n",
              "      fill: #174EA6;\n",
              "    }\n",
              "\n",
              "    [theme=dark] .colab-df-convert {\n",
              "      background-color: #3B4455;\n",
              "      fill: #D2E3FC;\n",
              "    }\n",
              "\n",
              "    [theme=dark] .colab-df-convert:hover {\n",
              "      background-color: #434B5C;\n",
              "      box-shadow: 0px 1px 3px 1px rgba(0, 0, 0, 0.15);\n",
              "      filter: drop-shadow(0px 1px 2px rgba(0, 0, 0, 0.3));\n",
              "      fill: #FFFFFF;\n",
              "    }\n",
              "  </style>\n",
              "\n",
              "      <script>\n",
              "        const buttonEl =\n",
              "          document.querySelector('#df-ae9006c3-8f9a-40b7-9dbb-65e1e7b172db button.colab-df-convert');\n",
              "        buttonEl.style.display =\n",
              "          google.colab.kernel.accessAllowed ? 'block' : 'none';\n",
              "\n",
              "        async function convertToInteractive(key) {\n",
              "          const element = document.querySelector('#df-ae9006c3-8f9a-40b7-9dbb-65e1e7b172db');\n",
              "          const dataTable =\n",
              "            await google.colab.kernel.invokeFunction('convertToInteractive',\n",
              "                                                     [key], {});\n",
              "          if (!dataTable) return;\n",
              "\n",
              "          const docLinkHtml = 'Like what you see? Visit the ' +\n",
              "            '<a target=\"_blank\" href=https://colab.research.google.com/notebooks/data_table.ipynb>data table notebook</a>'\n",
              "            + ' to learn more about interactive tables.';\n",
              "          element.innerHTML = '';\n",
              "          dataTable['output_type'] = 'display_data';\n",
              "          await google.colab.output.renderOutput(dataTable, element);\n",
              "          const docLink = document.createElement('div');\n",
              "          docLink.innerHTML = docLinkHtml;\n",
              "          element.appendChild(docLink);\n",
              "        }\n",
              "      </script>\n",
              "    </div>\n",
              "  </div>\n",
              "  "
            ]
          },
          "metadata": {},
          "execution_count": 9
        }
      ]
    },
    {
      "cell_type": "code",
      "source": [
        "\"\"\"\n",
        "Series trái ngược với DataFarme, là một chuỗi các giá trị dữ liệu. \n",
        "Nếu DataFrame là một bảng thì Series là một danh sách. \n",
        "Và thực tế, bạn có thể tạo một Series chỉ với một danh sách\n",
        "\"\"\"\n",
        "pd.Series([1,2,3,4,5,6])"
      ],
      "metadata": {
        "colab": {
          "base_uri": "https://localhost:8080/",
          "height": 0
        },
        "id": "olVWhxkPXyMr",
        "outputId": "9b2af6be-86c9-4631-a87e-3e59b109940c"
      },
      "execution_count": 10,
      "outputs": [
        {
          "output_type": "execute_result",
          "data": {
            "text/plain": [
              "0    1\n",
              "1    2\n",
              "2    3\n",
              "3    4\n",
              "4    5\n",
              "5    6\n",
              "dtype: int64"
            ]
          },
          "metadata": {},
          "execution_count": 10
        }
      ]
    },
    {
      "cell_type": "code",
      "source": [
        "\"\"\"\n",
        "Về cơ bản Seris là một cột đơn của DataFrame. \n",
        "Vì vậy, bạn có thể gán nhãn hàng cho Series theo cùng cách như trước đó, bằng cách sử dụng tham số index. \n",
        "Tuy nhiên, một Series không có tên cột, nó chỉ có một tên tổng thể\n",
        "\"\"\"\n",
        "pd.Series([1,2], index=[\"Pro1\", \"Pro2\"])"
      ],
      "metadata": {
        "colab": {
          "base_uri": "https://localhost:8080/",
          "height": 0
        },
        "id": "kBD2R9JWYdyw",
        "outputId": "fc14d2b1-69c2-4021-a3e8-12ca73d7b776"
      },
      "execution_count": 11,
      "outputs": [
        {
          "output_type": "execute_result",
          "data": {
            "text/plain": [
              "Pro1    1\n",
              "Pro2    2\n",
              "dtype: int64"
            ]
          },
          "metadata": {},
          "execution_count": 11
        }
      ]
    },
    {
      "cell_type": "code",
      "source": [
        "\"\"\"\n",
        "Các Series và DataFrame có mối quan hệ mật thiết với nhau. \n",
        "Nó hữu ích khi coi một DataFrame thực chất chỉ là nhiều Series gắn lại với nhau.\n",
        "\"\"\""
      ],
      "metadata": {
        "id": "qCznPGL6cHyB",
        "colab": {
          "base_uri": "https://localhost:8080/",
          "height": 36
        },
        "outputId": "336e9f07-a264-4b0f-a2ce-9019078126dc"
      },
      "execution_count": 12,
      "outputs": [
        {
          "output_type": "execute_result",
          "data": {
            "text/plain": [
              "'\\nCác Series và DataFrame có mối quan hệ mật thiết với nhau. \\nNó hữu ích khi coi một DataFrame thực chất chỉ là nhiều Series gắn lại với nhau.\\n'"
            ],
            "application/vnd.google.colaboratory.intrinsic+json": {
              "type": "string"
            }
          },
          "metadata": {},
          "execution_count": 12
        }
      ]
    },
    {
      "cell_type": "markdown",
      "source": [
        "#2. Reading data files\n"
      ],
      "metadata": {
        "id": "rCIhNGffcbHU"
      }
    },
    {
      "cell_type": "code",
      "source": [
        "\"\"\"\n",
        "Dữ liệu có thể được lưu trữ dưới bất kỳ dạng và định dạng nào khác nhau. \n",
        "Theo đó, CSV là định dạng cơ bản nhất.\n",
        "\n",
        "Một tệp CSV là một bảng các giá trị được phân tách bằng dấu phẩy.\n",
        "Do đó, được gọi là \"Comma-Separated Values\" hoặc CSV.\n",
        "\"\"\""
      ],
      "metadata": {
        "id": "LWyHT7-ncmQ3",
        "colab": {
          "base_uri": "https://localhost:8080/",
          "height": 53
        },
        "outputId": "071de3f0-4370-48dc-d6ca-67e335265338"
      },
      "execution_count": 13,
      "outputs": [
        {
          "output_type": "execute_result",
          "data": {
            "text/plain": [
              "'\\nDữ liệu có thể được lưu trữ dưới bất kỳ dạng và định dạng nào khác nhau. \\nTheo đó, CSV là định dạng cơ bản nhất.\\n\\nMột tệp CSV là một bảng các giá trị được phân tách bằng dấu phẩy.\\nDo đó, được gọi là \"Comma-Separated Values\" hoặc CSV.\\n'"
            ],
            "application/vnd.google.colaboratory.intrinsic+json": {
              "type": "string"
            }
          },
          "metadata": {},
          "execution_count": 13
        }
      ]
    },
    {
      "cell_type": "code",
      "source": [
        "\"\"\"\n",
        "Chúng ta sẽ sử dụng hàm pd.read_csv() để đọc dữ liệu vào DataFrame\n",
        "\"\"\"\n",
        "\n",
        "# pd.read_cvs(\"path\")"
      ],
      "metadata": {
        "id": "2HAmZb3nc_X1",
        "colab": {
          "base_uri": "https://localhost:8080/",
          "height": 36
        },
        "outputId": "6bef9453-0682-4fe5-9cb7-848ba171e8d3"
      },
      "execution_count": 14,
      "outputs": [
        {
          "output_type": "execute_result",
          "data": {
            "text/plain": [
              "'\\nChúng ta sẽ sử dụng hàm pd.read_csv() để đọc dữ liệu vào DataFrame\\n'"
            ],
            "application/vnd.google.colaboratory.intrinsic+json": {
              "type": "string"
            }
          },
          "metadata": {},
          "execution_count": 14
        }
      ]
    },
    {
      "cell_type": "code",
      "source": [
        "\"\"\"\n",
        "Chúng ta có thể sử dụng thuộc tính shape để kiểm tra kích thước của DataFrame kết quả\n",
        "\"\"\"\n",
        "\n",
        "# file = pd.read_cvs(\"path\")\n",
        "# print(file.shape)\n",
        "\n",
        "\"\"\"\n",
        "Kết quả sẽ là một tuple, với phần tử đầu tiên là số lượng hàng và phần tử thứ hai là số lượng cột của DataFrame.\n",
        "\"\"\""
      ],
      "metadata": {
        "id": "JAZkMBOzdjy5",
        "colab": {
          "base_uri": "https://localhost:8080/",
          "height": 36
        },
        "outputId": "129d55d7-f06b-4743-a17f-e3c77e2df17a"
      },
      "execution_count": 15,
      "outputs": [
        {
          "output_type": "execute_result",
          "data": {
            "text/plain": [
              "'\\nKết quả sẽ là một tuple, với phần tử đầu tiên là số lượng hàng và phần tử thứ hai là số lượng cột của DataFrame.\\n'"
            ],
            "application/vnd.google.colaboratory.intrinsic+json": {
              "type": "string"
            }
          },
          "metadata": {},
          "execution_count": 15
        }
      ]
    },
    {
      "cell_type": "code",
      "source": [
        "\"\"\"\n",
        "Chúng ta có thể xem nội dung của DataFrame kết quả bằng cách sử dụng lệnh head(), lệnh này lấy ra năm hàng đầu tiên\n",
        "\"\"\"\n",
        "\n",
        "# print(file.head())"
      ],
      "metadata": {
        "id": "rcBc0hPVeYBD",
        "colab": {
          "base_uri": "https://localhost:8080/",
          "height": 36
        },
        "outputId": "a32d79ed-1981-4358-bf87-c4e35961f31d"
      },
      "execution_count": 16,
      "outputs": [
        {
          "output_type": "execute_result",
          "data": {
            "text/plain": [
              "'\\nChúng ta có thể xem nội dung của DataFrame kết quả bằng cách sử dụng lệnh head(), lệnh này lấy ra năm hàng đầu tiên\\n'"
            ],
            "application/vnd.google.colaboratory.intrinsic+json": {
              "type": "string"
            }
          },
          "metadata": {},
          "execution_count": 16
        }
      ]
    },
    {
      "cell_type": "code",
      "source": [
        "\"\"\"\n",
        "Hàm pd.read_csv() có hơn 30 tham số tùy chọn mà bạn có thể chỉ định. \n",
        "Ví dụ, bạn có thể thấy trong tập dữ liệu này rằng tệp CSV có một chỉ mục tích hợp, nhưng pandas không phát hiện ra một cách tự động. \n",
        "Để làm cho pandas sử dụng cột đó cho chỉ mục (thay vì tạo một chỉ mục mới từ đầu), chúng ta có thể chỉ định một index_col.\n",
        "\"\"\"\n",
        "\n",
        "# file = pd.read_cvs(\"path\", index_col= 0)\n"
      ],
      "metadata": {
        "id": "U89H4832ezHS",
        "colab": {
          "base_uri": "https://localhost:8080/",
          "height": 53
        },
        "outputId": "8bbafe96-9a44-428d-d276-7493a26ed843"
      },
      "execution_count": 17,
      "outputs": [
        {
          "output_type": "execute_result",
          "data": {
            "text/plain": [
              "'\\nHàm pd.read_csv() có hơn 30 tham số tùy chọn mà bạn có thể chỉ định. \\nVí dụ, bạn có thể thấy trong tập dữ liệu này rằng tệp CSV có một chỉ mục tích hợp, nhưng pandas không phát hiện ra một cách tự động. \\nĐể làm cho pandas sử dụng cột đó cho chỉ mục (thay vì tạo một chỉ mục mới từ đầu), chúng ta có thể chỉ định một index_col.\\n'"
            ],
            "application/vnd.google.colaboratory.intrinsic+json": {
              "type": "string"
            }
          },
          "metadata": {},
          "execution_count": 17
        }
      ]
    },
    {
      "cell_type": "code",
      "source": [
        "\"\"\"\n",
        "Bạn có thể lưu DataFrame của mình thành một tệp CSV bằng cách sử dụng phương thức to_csv() của pandas\n",
        "\"\"\"\n",
        "\n",
        "# a = pd.DataFrame({'Yes': [50, 20], 'No': [31, 12]}, index = [1,2])\n",
        "# a.to_csv(\"path\")"
      ],
      "metadata": {
        "id": "NbV-YPEqfIpc",
        "colab": {
          "base_uri": "https://localhost:8080/",
          "height": 36
        },
        "outputId": "6481ee3f-1972-4909-bb90-c46af97c38ba"
      },
      "execution_count": 18,
      "outputs": [
        {
          "output_type": "execute_result",
          "data": {
            "text/plain": [
              "'\\nBạn có thể lưu DataFrame của mình thành một tệp CSV bằng cách sử dụng phương thức to_csv() của pandas\\n'"
            ],
            "application/vnd.google.colaboratory.intrinsic+json": {
              "type": "string"
            }
          },
          "metadata": {},
          "execution_count": 18
        }
      ]
    },
    {
      "cell_type": "code",
      "source": [],
      "metadata": {
        "id": "xEbTbxPDitqq"
      },
      "execution_count": 18,
      "outputs": []
    },
    {
      "cell_type": "markdown",
      "source": [
        "#3. Indexing, Selecting and Assigning\n",
        "\n"
      ],
      "metadata": {
        "id": "x_rxdipZCxbX"
      }
    },
    {
      "cell_type": "code",
      "source": [
        "\"\"\"\n",
        "Việc lựa chọn các giá trị cụ thể của một pandas DataFrame hoặc \n",
        "Series để làm việc là một bước ngầm định trong hầu hết các hoạt động xử lý dữ liệu \n",
        "\"\"\""
      ],
      "metadata": {
        "colab": {
          "base_uri": "https://localhost:8080/",
          "height": 36
        },
        "id": "2gYvBDGwC4fA",
        "outputId": "8557e4d1-5cc1-4590-c40e-ddef79090fc3"
      },
      "execution_count": 19,
      "outputs": [
        {
          "output_type": "execute_result",
          "data": {
            "text/plain": [
              "'\\nViệc lựa chọn các giá trị cụ thể của một pandas DataFrame hoặc \\nSeries để làm việc là một bước ngầm định trong hầu hết các hoạt động xử lý dữ liệu \\n'"
            ],
            "application/vnd.google.colaboratory.intrinsic+json": {
              "type": "string"
            }
          },
          "metadata": {},
          "execution_count": 19
        }
      ]
    },
    {
      "cell_type": "code",
      "source": [
        "\"\"\"\n",
        "Trong Pandas, set_option là một phương thức của đối tượng pandas.options, được sử dụng để thiết lập \n",
        "các tùy chọn hiển thị và tham số của DataFrame hoặc Series. Phương thức set_option cho phép bạn tinh \n",
        "chỉnh cách hiển thị dữ liệu, định dạng và kiểu dữ liệu được in ra trên terminal hoặc notebook của bạn.\n",
        "\n",
        "Cú pháp chung của phương thức set_option là:\n",
        "\"\"\"\n",
        "\n",
        "# pd.set_option(option, value)\n",
        "\n",
        "\"\"\"\n",
        "Trong đó, option là tên của tùy chọn cần thiết lập, và value là giá trị mới được thiết lập cho tùy chọn đó. \n",
        "Ví dụ, để hiển thị tất cả các dòng và cột của DataFrame khi in ra, bạn có thể sử dụng:\n",
        "\"\"\"\n",
        "\n",
        "# pd.set_option('display.max_rows', None)\n",
        "# pd.set_option('display.max_columns', None)\n",
        "\n",
        "\n",
        "\"\"\"\n",
        "Các tùy chọn phổ biến khác bao gồm precision (số chữ số thập phân hiển thị), \n",
        "max_colwidth (chiều rộng tối đa của các cột), date_yearfirst (định dạng ngày/tháng/năm) \n",
        "và mode.sim_interactive (cho phép tương tác trong chế độ hiển thị).\n",
        "\n",
        "Lưu ý rằng việc sử dụng set_option có thể ảnh hưởng đến tất cả các DataFrame và Series \n",
        "trong môi trường làm việc của bạn, do đó cần cẩn thận khi sử dụng để không làm \n",
        "ảnh hưởng đến các tùy chọn khác của Pandas.\n",
        "\"\"\""
      ],
      "metadata": {
        "colab": {
          "base_uri": "https://localhost:8080/",
          "height": 70
        },
        "id": "5wDI0i5HDglv",
        "outputId": "56f8ca1f-24b6-4453-9383-be5ad8730830"
      },
      "execution_count": 20,
      "outputs": [
        {
          "output_type": "execute_result",
          "data": {
            "text/plain": [
              "'\\nCác tùy chọn phổ biến khác bao gồm precision (số chữ số thập phân hiển thị), \\nmax_colwidth (chiều rộng tối đa của các cột), date_yearfirst (định dạng ngày/tháng/năm) \\nvà mode.sim_interactive (cho phép tương tác trong chế độ hiển thị).\\n\\nLưu ý rằng việc sử dụng set_option có thể ảnh hưởng đến tất cả các DataFrame và Series \\ntrong môi trường làm việc của bạn, do đó cần cẩn thận khi sử dụng để không làm \\nảnh hưởng đến các tùy chọn khác của Pandas.\\n'"
            ],
            "application/vnd.google.colaboratory.intrinsic+json": {
              "type": "string"
            }
          },
          "metadata": {},
          "execution_count": 20
        }
      ]
    },
    {
      "cell_type": "code",
      "source": [
        "\"\"\"\n",
        "Trong Python, chúng ta có thể truy cập vào các thuộc tính \n",
        "của một đối tượng bằng cách truy cập nó như một thuộc tính. \n",
        "Ví dụ, một đối tượng sách có thể có một thuộc tính \"title\", mà \n",
        "chúng ta có thể truy cập bằng cách gọi book.title. \n",
        "Các cột trong một DataFrame của Pandas cũng hoạt động theo cách tương tự.\n",
        "\"\"\"\n",
        "\n",
        "\n",
        "\"\"\"\n",
        "1. Sử dụng chỉ mục (indexing):\n",
        "\"\"\"\n",
        "\n",
        "# country_column = reviews['country']\n",
        "\n",
        "\"\"\"\n",
        "2. Sử dụng truy cập thuộc tính (attribute access):\n",
        "\"\"\"\n",
        "\n",
        "# country_column = reviews.country\n",
        "\n",
        "\n",
        "\"\"\"\n",
        "Cả hai phương pháp này đều tương đương và sẽ trả về một Series của Pandas chứa \n",
        "các giá trị của cột \"country\" của DataFrame \"reviews\". \n",
        "Chúng ta có thể sử dụng Series này cho các phân tích hoặc thao tác tiếp theo.\n",
        "\n",
        "Lưu ý rằng phương thức truy cập thuộc tính chỉ có thể sử dụng cho các tên cột \n",
        "là các định danh hợp lệ trong Python (tức là các tên cột có thể được sử dụng làm \n",
        "tên biến trong Python). Nếu tên cột chứa khoảng trắng hoặc các ký tự đặc biệt, \n",
        "chúng ta phải sử dụng chỉ mục thay vì truy cập thuộc tính.\n",
        "\"\"\""
      ],
      "metadata": {
        "colab": {
          "base_uri": "https://localhost:8080/",
          "height": 70
        },
        "id": "4Tr5qmTTFCCI",
        "outputId": "d187816b-c211-4064-b9f9-120363c06561"
      },
      "execution_count": 21,
      "outputs": [
        {
          "output_type": "execute_result",
          "data": {
            "text/plain": [
              "'\\nCả hai phương pháp này đều tương đương và sẽ trả về một Series của Pandas chứa \\ncác giá trị của cột \"country\" của DataFrame \"reviews\". \\nChúng ta có thể sử dụng Series này cho các phân tích hoặc thao tác tiếp theo.\\n\\nLưu ý rằng phương thức truy cập thuộc tính chỉ có thể sử dụng cho các tên cột \\nlà các định danh hợp lệ trong Python (tức là các tên cột có thể được sử dụng làm \\ntên biến trong Python). Nếu tên cột chứa khoảng trắng hoặc các ký tự đặc biệt, \\nchúng ta phải sử dụng chỉ mục thay vì truy cập thuộc tính.\\n'"
            ],
            "application/vnd.google.colaboratory.intrinsic+json": {
              "type": "string"
            }
          },
          "metadata": {},
          "execution_count": 21
        }
      ]
    },
    {
      "cell_type": "markdown",
      "source": [
        "#4. Indexing in pandas"
      ],
      "metadata": {
        "id": "7TOx1nFtGDyJ"
      }
    },
    {
      "cell_type": "code",
      "source": [
        "\"\"\"\n",
        "Toán tử chỉ mục và lựa chọn thuộc tính rất tiện lợi trong pandas vì chúng hoạt động giống như trong toàn bộ hệ sinh thái Python. \n",
        "Điều này giúp cho việc sử dụng chúng dễ dàng đối với người mới bắt đầu. Tuy nhiên, \n",
        "pandas cũng có các toán tử accessor riêng của nó, đó là 'loc' và 'iloc'. \n",
        "Đối với các hoạt động nâng cao hơn, chúng ta nên sử dụng chúng.\n",
        "\"\"\""
      ],
      "metadata": {
        "colab": {
          "base_uri": "https://localhost:8080/",
          "height": 53
        },
        "id": "geYwJ82dF0dH",
        "outputId": "7edee2ad-56d0-4e95-b2f2-3c79f2808532"
      },
      "execution_count": 22,
      "outputs": [
        {
          "output_type": "execute_result",
          "data": {
            "text/plain": [
              "\"\\nToán tử chỉ mục và lựa chọn thuộc tính rất tiện lợi trong pandas vì chúng hoạt động giống như trong toàn bộ hệ sinh thái Python. \\nĐiều này giúp cho việc sử dụng chúng dễ dàng đối với người mới bắt đầu. Tuy nhiên, \\npandas cũng có các toán tử accessor riêng của nó, đó là 'loc' và 'iloc'. \\nĐối với các hoạt động nâng cao hơn, chúng ta nên sử dụng chúng.\\n\""
            ],
            "application/vnd.google.colaboratory.intrinsic+json": {
              "type": "string"
            }
          },
          "metadata": {},
          "execution_count": 22
        }
      ]
    },
    {
      "cell_type": "code",
      "source": [
        "# Index-based selection\n",
        "\n",
        "\"\"\"\n",
        "Pandas indexing hoạt động theo hai mô hình khác nhau. \n",
        "Mô hình đầu tiên là lựa chọn dựa trên chỉ mục (index-based selection): \n",
        "lựa chọn dữ liệu dựa trên vị trí số của nó trong dữ liệu. iloc theo mô hình này.\n",
        "\n",
        "Để chọn hàng đầu tiên của dữ liệu trong một DataFrame, chúng ta có thể sử dụng công thức sau:\n",
        "\"\"\"\n",
        "\n",
        "# first_row = df.iloc[0]\n",
        "\n",
        "\"\"\"\n",
        "Trong đó, df là DataFrame của chúng ta và iloc[0] chỉ định rằng chúng ta muốn lấy ra hàng đầu tiên của dữ liệu. \n",
        "Chúng ta cũng có thể chọn ra nhiều hàng bằng cách sử dụng một list các chỉ mục, \n",
        "ví dụ iloc[[0, 1, 2]] sẽ lấy ra các hàng có chỉ mục là 0, 1 và 2.\n",
        "\n",
        "Ngoài ra, chúng ta cũng có thể lựa chọn hàng và cột cụ thể bằng cách sử dụng iloc. \n",
        "Ví dụ, iloc[0, 0] sẽ trả về giá trị đầu tiên trong DataFrame, \n",
        "iloc[:, 0] sẽ trả về cột đầu tiên của DataFrame, \n",
        "iloc[0:3, :] sẽ trả về 3 hàng đầu tiên của DataFrame và tất cả các cột.\n",
        "\"\"\""
      ],
      "metadata": {
        "colab": {
          "base_uri": "https://localhost:8080/",
          "height": 70
        },
        "id": "noSxnVsAGtlA",
        "outputId": "0840785a-8b81-4cfc-d4a3-5cc291fd325d"
      },
      "execution_count": 23,
      "outputs": [
        {
          "output_type": "execute_result",
          "data": {
            "text/plain": [
              "'\\nTrong đó, df là DataFrame của chúng ta và iloc[0] chỉ định rằng chúng ta muốn lấy ra hàng đầu tiên của dữ liệu. \\nChúng ta cũng có thể chọn ra nhiều hàng bằng cách sử dụng một list các chỉ mục, \\nví dụ iloc[[0, 1, 2]] sẽ lấy ra các hàng có chỉ mục là 0, 1 và 2.\\n\\nNgoài ra, chúng ta cũng có thể lựa chọn hàng và cột cụ thể bằng cách sử dụng iloc. \\nVí dụ, iloc[0, 0] sẽ trả về giá trị đầu tiên trong DataFrame, \\niloc[:, 0] sẽ trả về cột đầu tiên của DataFrame, \\niloc[0:3, :] sẽ trả về 3 hàng đầu tiên của DataFrame và tất cả các cột.\\n'"
            ],
            "application/vnd.google.colaboratory.intrinsic+json": {
              "type": "string"
            }
          },
          "metadata": {},
          "execution_count": 23
        }
      ]
    },
    {
      "cell_type": "code",
      "source": [
        "# Label-based selection\n",
        "\n",
        "\"\"\"\n",
        "Mô hình thứ hai cho lựa chọn thuộc tính là mô hình được theo sau bởi toán tử loc: \n",
        "lựa chọn dựa trên nhãn (label-based selection). Trong mô hình này quan trọng là giá trị chỉ mục của dữ liệu, \n",
        "chứ không phải vị trí của nó..\n",
        "\n",
        "Ví dụ, để lấy mục đầu tiên trong reviews, chúng ta sẽ thực hiện như sau:\n",
        "\"\"\"\n",
        "\n",
        "# first_entry = reviews.loc[0]\n",
        "\n",
        "\"\"\"\n",
        "Ở đây, chúng ta đang yêu cầu lấy dữ liệu có chỉ mục (nhãn) là 0. \n",
        "Chúng ta cũng có thể chọn các hàng và cột cụ thể bằng cách sử dụng toán tử loc. \n",
        "Ví dụ, loc[0, 'country'] sẽ trả về giá trị của cột 'country' trong hàng đầu tiên của DataFrame.\n",
        "\"\"\"\n",
        "\n",
        "# first_entry = reviews.loc[0, 'country']"
      ],
      "metadata": {
        "colab": {
          "base_uri": "https://localhost:8080/",
          "height": 53
        },
        "id": "KpV9Y4XCHg6Q",
        "outputId": "7893dbcb-1d10-44af-8fa9-ae32f00eb9b0"
      },
      "execution_count": 24,
      "outputs": [
        {
          "output_type": "execute_result",
          "data": {
            "text/plain": [
              "\"\\nỞ đây, chúng ta đang yêu cầu lấy dữ liệu có chỉ mục (nhãn) là 0. \\nChúng ta cũng có thể chọn các hàng và cột cụ thể bằng cách sử dụng toán tử loc. \\nVí dụ, loc[0, 'country'] sẽ trả về giá trị của cột 'country' trong hàng đầu tiên của DataFrame.\\n\""
            ],
            "application/vnd.google.colaboratory.intrinsic+json": {
              "type": "string"
            }
          },
          "metadata": {},
          "execution_count": 24
        }
      ]
    },
    {
      "cell_type": "code",
      "source": [
        "# Choosing between loc and iloc\n",
        "\n",
        "\"\"\"\n",
        "Khi chọn hoặc chuyển đổi giữa loc và iloc, \n",
        "có một \"lỗi khó nhìn\" đáng để lưu ý, đó là hai phương pháp này sử dụng các lược đồ chỉ mục hơi khác nhau.\n",
        "\"\"\"\n",
        "\n",
        "\"\"\"\n",
        "iloc sử dụng lược đồ chỉ mục của Python stdlib, \n",
        "trong đó phần tử đầu tiên của phạm vi được bao gồm và phần tử cuối cùng bị loại bỏ. \n",
        "\"\"\"\n",
        "\n",
        "\"\"\"\n",
        "Vì vậy, 0:10 sẽ chọn các mục 0, ..., 9. \n",
        "Trong khi đó, loc sẽ chọn các mục trong toàn bộ phạm vi đó. Vì vậy, 0:10 sẽ chọn các mục 0, ..., 10.\n",
        "\"\"\"\n",
        "\n",
        "# Tại sao lại thay đổi như vậy? \n",
        "\n",
        "# Hãy nhớ rằng loc có thể chỉ mục bất kỳ loại stdlib nào: chuỗi, ví dụ. \n",
        "\n",
        "\"\"\"\n",
        "Nếu chúng ta có một DataFrame với các giá trị chỉ mục Apples, ..., Potatoes, ... và \n",
        "chúng ta muốn chọn \"tất cả các lựa chọn trái cây theo thứ tự chữ cái giữa Apples và Potatoes\", \n",
        "thì việc chỉ mục df.loc['Apples':'Potatoes'] rất tiện lợi hơn là \n",
        "chỉ mục df.loc['Apples', 'Potatoes'] (chữ t đứng sau chữ s trong bảng chữ cái).\n",
        "\"\"\"\n",
        "\n",
        "\"\"\"\n",
        "Điều này đặc biệt gây nhầm lẫn khi chỉ mục của DataFrame là một danh sách số đơn giản, \n",
        "ví dụ 0, ..., 1000. Trong trường hợp này, df.iloc[0:1000] sẽ trả về 1000 mục, \n",
        "trong khi df.loc[0:1000] sẽ trả về 1001 mục! Để có được 1000 phần tử bằng cách sử dụng loc, \n",
        "bạn cần giảm xuống một và yêu cầu df.loc[0:999].\n",
        "\n",
        "Ngoài ra, cú pháp sử dụng loc giống như cú pháp sử dụng iloc.\n",
        "\"\"\""
      ],
      "metadata": {
        "colab": {
          "base_uri": "https://localhost:8080/",
          "height": 70
        },
        "id": "XQtuXo_8IONX",
        "outputId": "c65accde-4646-47dc-a78b-92ca8b6e3409"
      },
      "execution_count": 25,
      "outputs": [
        {
          "output_type": "execute_result",
          "data": {
            "text/plain": [
              "'\\nĐiều này đặc biệt gây nhầm lẫn khi chỉ mục của DataFrame là một danh sách số đơn giản, \\nví dụ 0, ..., 1000. Trong trường hợp này, df.iloc[0:1000] sẽ trả về 1000 mục, \\ntrong khi df.loc[0:1000] sẽ trả về 1001 mục! Để có được 1000 phần tử bằng cách sử dụng loc, \\nbạn cần giảm xuống một và yêu cầu df.loc[0:999].\\n\\nNgoài ra, cú pháp sử dụng loc giống như cú pháp sử dụng iloc.\\n'"
            ],
            "application/vnd.google.colaboratory.intrinsic+json": {
              "type": "string"
            }
          },
          "metadata": {},
          "execution_count": 25
        }
      ]
    },
    {
      "cell_type": "markdown",
      "source": [
        "#5. Manipulating the index"
      ],
      "metadata": {
        "id": "qxIRL-EiMg_d"
      }
    },
    {
      "cell_type": "code",
      "source": [
        "\"\"\"\n",
        "Trong pandas, chỉ mục (index) là một công cụ mạnh mẽ để lựa chọn, lọc và xử lý dữ liệu. \n",
        "Đôi khi, bạn có thể cần điều chỉnh chỉ mục để làm cho nó hữu ích hơn cho phân tích của bạn.\n",
        "\"\"\"\n",
        "\n",
        "\"\"\"\n",
        "Một thao tác phổ biến là thiết lập chỉ mục mới. \n",
        "Để làm điều này, bạn có thể sử dụng phương thức set_index của DataFrame, \n",
        "nó trả về một DataFrame mới với cột được chỉ định làm chỉ mục. \n",
        "Ví dụ, để đặt cột \"title\" làm chỉ mục của một DataFrame \"df\", bạn có thể sử dụng.\n",
        "\"\"\"\n",
        "\n",
        "# df.set_index('title')"
      ],
      "metadata": {
        "id": "UTNg-MhxMnYD"
      },
      "execution_count": null,
      "outputs": []
    },
    {
      "cell_type": "code",
      "source": [
        "\"\"\"\n",
        "Bạn cũng có thể đặt lại chỉ mục về chỉ mục số mặc định bằng cách sử dụng phương thức reset_index. \n",
        "Điều này có thể hữu ích khi bạn muốn xóa chỉ mục hiện tại hoặc khi bạn cần chuyển đổi chỉ mục thành một cột. \n",
        "Ví dụ, để đặt lại chỉ mục của DataFrame \"df\", bạn có thể sử dụng:\n",
        "\"\"\"\n",
        "\n",
        "# df.reset_index()\n",
        "\n",
        "\"\"\"\n",
        "Ngoài việc thiết lập và đặt lại chỉ mục, bạn cũng có thể điều chỉnh chỉ mục trực tiếp. \n",
        "Ví dụ, bạn có thể đổi tên chỉ mục bằng cách sử dụng phương thức rename_axis, \n",
        "hoặc bạn có thể thay đổi giá trị của chỉ mục bằng cách sử dụng phương thức map.\n",
        "\n",
        "Tổng thể, việc điều chỉnh chỉ mục trong pandas có thể là một công cụ mạnh mẽ để tổ chức và phân tích dữ liệu của bạn.\n",
        "\"\"\""
      ],
      "metadata": {
        "id": "Y2ZuNYyxNEW5"
      },
      "execution_count": null,
      "outputs": []
    },
    {
      "cell_type": "code",
      "source": [
        "\"\"\"\n",
        "Conditional selection (lựa chọn có điều kiện) là phương pháp để chọn các dòng (rows) của DataFrame \n",
        "dựa trên điều kiện (condition) được chỉ định. Chúng ta có thể sử dụng các toán tử so sánh \n",
        "(comparison operators) như == (bằng), != (không bằng), < (nhỏ hơn), > (lớn hơn), <= (nhỏ hơn hoặc bằng), >= (lớn hơn hoặc bằng) \n",
        "để tạo ra các điều kiện. Ví dụ:\n",
        "\"\"\"\n",
        "\n",
        "# Chọn các dòng có giá trị 'country' là 'Italy'\n",
        "#reviews.loc[reviews['country'] == 'Italy']\n",
        "\n",
        "# Chọn các dòng có giá trị 'points' lớn hơn hoặc bằng 90\n",
        "#reviews.loc[reviews['points'] >= 90]\n",
        "\n",
        "# Chọn các dòng có giá trị 'price' dưới 20 đô la và 'points' lớn hơn hoặc bằng 90\n",
        "#reviews.loc[(reviews['price'] < 20) & (reviews['points'] >= 90)]\n",
        "\n",
        "\"\"\"\n",
        "Ngoài ra, chúng ta cũng có thể sử dụng các phương thức isin() để chọn các giá trị thuộc một danh sách giá trị cụ thể.\n",
        "\"\"\"\n",
        "\n",
        "# Chọn các dòng có giá trị 'province' thuộc danh sách các tỉnh 'Tuscany', 'Sicily & Sardinia', hoặc 'Piedmont'\n",
        "#reviews.loc[reviews['province'].isin(['Tuscany', 'Sicily & Sardinia', 'Piedmont'])]\n"
      ],
      "metadata": {
        "id": "gFoF7lp1NRHE"
      },
      "execution_count": null,
      "outputs": []
    },
    {
      "cell_type": "code",
      "source": [
        "\"\"\"\n",
        "Với cách thứ hai, là isnull (và đối tác của nó là notnull). \n",
        "Các phương thức này cho phép bạn đánh dấu các giá trị có giá trị rỗng (NaN) (hoặc không rỗng). \n",
        "Ví dụ, để lọc ra những chai rượu thiếu giá trong tập dữ liệu, chúng ta sẽ làm như sau:\n",
        "\"\"\"\n",
        "\n",
        "#reviews.loc[reviews.price.notnull()]"
      ],
      "metadata": {
        "id": "mPh0uaRpOdLd"
      },
      "execution_count": null,
      "outputs": []
    },
    {
      "cell_type": "markdown",
      "source": [
        "#6. Assigning data (Phân bổ dữ liệu)"
      ],
      "metadata": {
        "id": "xY7x0CmcPOQA"
      }
    },
    {
      "cell_type": "code",
      "source": [
        "\"\"\"\n",
        "Một thao tác thông thường khác mà bạn sẽ thường xuyên sử dụng là phân bổ dữ liệu. \n",
        "Cách đơn giản nhất để làm điều này là chỉ đơn giản gán vào một mới giá trị cho cột đã tồn tại. \n",
        "Bạn có thể thay đổi giá trị của một toàn bộ cột:\n",
        "\"\"\"\n",
        "\n",
        "# reviews['critic'] = 'everyone'\n",
        "\n",
        "\"\"\"\n",
        "Thay đổi một cột nguyên vẹn bằng cách gán nó với một danh sách Python mới hoàn toàn.\n",
        "\"\"\"\n",
        "\n",
        "# reviews['index_backwards'] = range(len(reviews), 0, -1)\n"
      ],
      "metadata": {
        "id": "16SAamd3PPM2"
      },
      "execution_count": null,
      "outputs": []
    }
  ]
}